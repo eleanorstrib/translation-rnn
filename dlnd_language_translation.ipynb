{
 "cells": [
  {
   "cell_type": "markdown",
   "metadata": {
    "collapsed": true
   },
   "source": [
    "# Language Translation\n",
    "In this project, you’re going to take a peek into the realm of neural network machine translation.  You’ll be training a sequence to sequence model on a dataset of English and French sentences that can translate new sentences from English to French.\n",
    "## Get the Data\n",
    "Since translating the whole language of English to French will take lots of time to train, we have provided you with a small portion of the English corpus."
   ]
  },
  {
   "cell_type": "code",
   "execution_count": 1,
   "metadata": {
    "collapsed": true
   },
   "outputs": [],
   "source": [
    "\"\"\"\n",
    "DON'T MODIFY ANYTHING IN THIS CELL\n",
    "\"\"\"\n",
    "import helper\n",
    "import problem_unittests as tests\n",
    "\n",
    "source_path = 'data/small_vocab_en'\n",
    "target_path = 'data/small_vocab_fr'\n",
    "source_text = helper.load_data(source_path)\n",
    "target_text = helper.load_data(target_path)"
   ]
  },
  {
   "cell_type": "markdown",
   "metadata": {},
   "source": [
    "## Explore the Data\n",
    "Play around with view_sentence_range to view different parts of the data."
   ]
  },
  {
   "cell_type": "code",
   "execution_count": 2,
   "metadata": {},
   "outputs": [
    {
     "name": "stdout",
     "output_type": "stream",
     "text": [
      "Dataset Stats\n",
      "Roughly the number of unique words: 227\n",
      "Number of sentences: 137861\n",
      "Average number of words in a sentence: 13.225277634719028\n",
      "['new', 'jersey']\n",
      "\n",
      "English sentences 0 to 10:\n",
      "new jersey is sometimes quiet during autumn , and it is snowy in april .\n",
      "the united states is usually chilly during july , and it is usually freezing in november .\n",
      "california is usually quiet during march , and it is usually hot in june .\n",
      "the united states is sometimes mild during june , and it is cold in september .\n",
      "your least liked fruit is the grape , but my least liked is the apple .\n",
      "his favorite fruit is the orange , but my favorite is the grape .\n",
      "paris is relaxing during december , but it is usually chilly in july .\n",
      "new jersey is busy during spring , and it is never hot in march .\n",
      "our least liked fruit is the lemon , but my least liked is the grape .\n",
      "the united states is sometimes busy during january , and it is sometimes warm in november .\n",
      "\n",
      "French sentences 0 to 10:\n",
      "new jersey est parfois calme pendant l' automne , et il est neigeux en avril .\n",
      "les états-unis est généralement froid en juillet , et il gèle habituellement en novembre .\n",
      "california est généralement calme en mars , et il est généralement chaud en juin .\n",
      "les états-unis est parfois légère en juin , et il fait froid en septembre .\n",
      "votre moins aimé fruit est le raisin , mais mon moins aimé est la pomme .\n",
      "son fruit préféré est l'orange , mais mon préféré est le raisin .\n",
      "paris est relaxant en décembre , mais il est généralement froid en juillet .\n",
      "new jersey est occupé au printemps , et il est jamais chaude en mars .\n",
      "notre fruit est moins aimé le citron , mais mon moins aimé est le raisin .\n",
      "les états-unis est parfois occupé en janvier , et il est parfois chaud en novembre .\n"
     ]
    }
   ],
   "source": [
    "view_sentence_range = (0, 10)\n",
    "\n",
    "\"\"\"\n",
    "DON'T MODIFY ANYTHING IN THIS CELL\n",
    "\"\"\"\n",
    "import numpy as np\n",
    "\n",
    "print('Dataset Stats')\n",
    "print('Roughly the number of unique words: {}'.format(len({word: None for word in source_text.split()})))\n",
    "\n",
    "sentences = source_text.split('\\n')\n",
    "word_counts = [len(sentence.split()) for sentence in sentences]\n",
    "print('Number of sentences: {}'.format(len(sentences)))\n",
    "print('Average number of words in a sentence: {}'.format(np.average(word_counts)))\n",
    "print(source_text[0:10].split())\n",
    "print()\n",
    "print('English sentences {} to {}:'.format(*view_sentence_range))\n",
    "print('\\n'.join(source_text.split('\\n')[view_sentence_range[0]:view_sentence_range[1]]))\n",
    "print()\n",
    "print('French sentences {} to {}:'.format(*view_sentence_range))\n",
    "print('\\n'.join(target_text.split('\\n')[view_sentence_range[0]:view_sentence_range[1]]))"
   ]
  },
  {
   "cell_type": "markdown",
   "metadata": {},
   "source": [
    "## Implement Preprocessing Function\n",
    "### Text to Word Ids\n",
    "As you did with other RNNs, you must turn the text into a number so the computer can understand it. In the function `text_to_ids()`, you'll turn `source_text` and `target_text` from words to ids.  However, you need to add the `<EOS>` word id at the end of `target_text`.  This will help the neural network predict when the sentence should end.\n",
    "\n",
    "You can get the `<EOS>` word id by doing:\n",
    "```python\n",
    "target_vocab_to_int['<EOS>']\n",
    "```\n",
    "You can get other word ids using `source_vocab_to_int` and `target_vocab_to_int`."
   ]
  },
  {
   "cell_type": "code",
   "execution_count": 3,
   "metadata": {},
   "outputs": [
    {
     "name": "stdout",
     "output_type": "stream",
     "text": [
      "Tests Passed\n"
     ]
    }
   ],
   "source": [
    "def text_to_ids(source_text, target_text, source_vocab_to_int, target_vocab_to_int):\n",
    "    \"\"\"\n",
    "    Convert source and target text to proper word ids\n",
    "    :param source_text: String that contains all the source text.\n",
    "    :param target_text: String that contains all the target text.\n",
    "    :param source_vocab_to_int: Dictionary to go from the source words to an id\n",
    "    :param target_vocab_to_int: Dictionary to go from the target words to an id\n",
    "    :return: A tuple of lists (source_id_text, target_id_text)\n",
    "    \"\"\"\n",
    "    # TODO: Implement Function\n",
    "    # split texts on new line character into seperate lists, split lists on space, lookup id from appropriate dict\n",
    "    # added EOS value to target lists\n",
    "    source_id_text = [[source_vocab_to_int.get(word) for word in phrase.split()] for phrase in source_text.split('\\n')]\n",
    "    target_id_text = [[target_vocab_to_int.get(word) for word in phrase.split()] + [target_vocab_to_int['<EOS>']] for phrase in target_text.split('\\n')]\n",
    "\n",
    "    return (source_id_text, target_id_text)\n",
    "\n",
    "\"\"\"\n",
    "DON'T MODIFY ANYTHING IN THIS CELL THAT IS BELOW THIS LINE\n",
    "\"\"\"\n",
    "tests.test_text_to_ids(text_to_ids)"
   ]
  },
  {
   "cell_type": "markdown",
   "metadata": {},
   "source": [
    "### Preprocess all the data and save it\n",
    "Running the code cell below will preprocess all the data and save it to file."
   ]
  },
  {
   "cell_type": "code",
   "execution_count": 4,
   "metadata": {},
   "outputs": [],
   "source": [
    "\"\"\"\n",
    "DON'T MODIFY ANYTHING IN THIS CELL\n",
    "\"\"\"\n",
    "helper.preprocess_and_save_data(source_path, target_path, text_to_ids)"
   ]
  },
  {
   "cell_type": "markdown",
   "metadata": {},
   "source": [
    "# Check Point\n",
    "This is your first checkpoint. If you ever decide to come back to this notebook or have to restart the notebook, you can start from here. The preprocessed data has been saved to disk."
   ]
  },
  {
   "cell_type": "code",
   "execution_count": 5,
   "metadata": {
    "collapsed": true
   },
   "outputs": [],
   "source": [
    "\"\"\"\n",
    "DON'T MODIFY ANYTHING IN THIS CELL\n",
    "\"\"\"\n",
    "import numpy as np\n",
    "import helper\n",
    "import problem_unittests as tests\n",
    "\n",
    "(source_int_text, target_int_text), (source_vocab_to_int, target_vocab_to_int), _ = helper.load_preprocess()"
   ]
  },
  {
   "cell_type": "markdown",
   "metadata": {},
   "source": [
    "### Check the Version of TensorFlow and Access to GPU\n",
    "This will check to make sure you have the correct version of TensorFlow and access to a GPU"
   ]
  },
  {
   "cell_type": "code",
   "execution_count": 6,
   "metadata": {},
   "outputs": [
    {
     "name": "stdout",
     "output_type": "stream",
     "text": [
      "TensorFlow Version: 1.1.0\n",
      "Default GPU Device: /gpu:0\n"
     ]
    }
   ],
   "source": [
    "\"\"\"\n",
    "DON'T MODIFY ANYTHING IN THIS CELL\n",
    "\"\"\"\n",
    "from distutils.version import LooseVersion\n",
    "import warnings\n",
    "import tensorflow as tf\n",
    "from tensorflow.python.layers.core import Dense\n",
    "\n",
    "# Check TensorFlow Version\n",
    "assert LooseVersion(tf.__version__) >= LooseVersion('1.1'), 'Please use TensorFlow version 1.1 or newer'\n",
    "print('TensorFlow Version: {}'.format(tf.__version__))\n",
    "\n",
    "# Check for a GPU\n",
    "if not tf.test.gpu_device_name():\n",
    "    warnings.warn('No GPU found. Please use a GPU to train your neural network.')\n",
    "else:\n",
    "    print('Default GPU Device: {}'.format(tf.test.gpu_device_name()))"
   ]
  },
  {
   "cell_type": "markdown",
   "metadata": {},
   "source": [
    "## Build the Neural Network\n",
    "You'll build the components necessary to build a Sequence-to-Sequence model by implementing the following functions below:\n",
    "- `model_inputs`\n",
    "- `process_decoder_input`\n",
    "- `encoding_layer`\n",
    "- `decoding_layer_train`\n",
    "- `decoding_layer_infer`\n",
    "- `decoding_layer`\n",
    "- `seq2seq_model`\n",
    "\n",
    "### Input\n",
    "Implement the `model_inputs()` function to create TF Placeholders for the Neural Network. It should create the following placeholders:\n",
    "\n",
    "- Input text placeholder named \"input\" using the TF Placeholder name parameter with rank 2.\n",
    "- Targets placeholder with rank 2.\n",
    "- Learning rate placeholder with rank 0.\n",
    "- Keep probability placeholder named \"keep_prob\" using the TF Placeholder name parameter with rank 0.\n",
    "- Target sequence length placeholder named \"target_sequence_length\" with rank 1\n",
    "- Max target sequence length tensor named \"max_target_len\" getting its value from applying tf.reduce_max on the target_sequence_length placeholder. Rank 0.\n",
    "- Source sequence length placeholder named \"source_sequence_length\" with rank 1\n",
    "\n",
    "Return the placeholders in the following the tuple (input, targets, learning rate, keep probability, target sequence length, max target sequence length, source sequence length)"
   ]
  },
  {
   "cell_type": "code",
   "execution_count": 7,
   "metadata": {},
   "outputs": [
    {
     "name": "stdout",
     "output_type": "stream",
     "text": [
      "Tests Passed\n"
     ]
    }
   ],
   "source": [
    "def model_inputs():\n",
    "    \"\"\"\n",
    "    Create TF Placeholders for input, targets, learning rate, and lengths of source and target sequences.\n",
    "    :return: Tuple (input, targets, learning rate, keep probability, target sequence length,\n",
    "    max target sequence length, source sequence length)\n",
    "    \"\"\"\n",
    "    inputs = tf.placeholder(tf.int32, [None, None], name='input')\n",
    "    targets = tf.placeholder(tf.int32, [None, None], name='targets')\n",
    "    learning_rate = tf.placeholder(tf.float32, None)\n",
    "    keep_probability = tf.placeholder(tf.float32, None, name='keep_prob')\n",
    "    target_sequence_length = tf.placeholder(tf.int32, [None], name='target_sequence_length')\n",
    "    max_target_sequence_length = tf.reduce_max(target_sequence_length, name='max_target_sequence_length')\n",
    "    source_sequence_length = tf.placeholder(tf.int32, [None], name='source_sequence_length')\n",
    "    \n",
    "    return (inputs, targets, learning_rate, keep_probability, target_sequence_length,\n",
    "    max_target_sequence_length, source_sequence_length)\n",
    "\n",
    "\n",
    "\n",
    "\"\"\"\n",
    "DON'T MODIFY ANYTHING IN THIS CELL THAT IS BELOW THIS LINE\n",
    "\"\"\"\n",
    "tests.test_model_inputs(model_inputs)"
   ]
  },
  {
   "cell_type": "markdown",
   "metadata": {},
   "source": [
    "### Process Decoder Input\n",
    "Implement `process_decoder_input` by removing the last word id from each batch in `target_data` and concat the GO ID to the begining of each batch."
   ]
  },
  {
   "cell_type": "code",
   "execution_count": 8,
   "metadata": {},
   "outputs": [
    {
     "name": "stdout",
     "output_type": "stream",
     "text": [
      "Tests Passed\n"
     ]
    }
   ],
   "source": [
    "def process_decoder_input(target_data, target_vocab_to_int, batch_size):\n",
    "    \"\"\"\n",
    "    Preprocess target data for encoding\n",
    "    :param target_data: Target Placehoder\n",
    "    :param target_vocab_to_int: Dictionary to go from the target words to an id\n",
    "    :param batch_size: Batch Size\n",
    "    :return: Preprocessed target data\n",
    "    \"\"\"\n",
    "    # TODO: Implement Function\n",
    "    end = tf.strided_slice(target_data, [0,0], [batch_size, -1], [1,1]) # remove last id\n",
    "    pp_target_data = tf.concat([tf.fill([batch_size, 1], target_vocab_to_int['<GO>']), end], 1) # add go\n",
    "\n",
    "    return pp_target_data\n",
    "\n",
    "\"\"\"\n",
    "DON'T MODIFY ANYTHING IN THIS CELL THAT IS BELOW THIS LINE\n",
    "\"\"\"\n",
    "tests.test_process_encoding_input(process_decoder_input)"
   ]
  },
  {
   "cell_type": "markdown",
   "metadata": {},
   "source": [
    "### Encoding\n",
    "Implement `encoding_layer()` to create a Encoder RNN layer:\n",
    " * Embed the encoder input using [`tf.contrib.layers.embed_sequence`](https://www.tensorflow.org/api_docs/python/tf/contrib/layers/embed_sequence)\n",
    " * Construct a [stacked](https://github.com/tensorflow/tensorflow/blob/6947f65a374ebf29e74bb71e36fd82760056d82c/tensorflow/docs_src/tutorials/recurrent.md#stacking-multiple-lstms) [`tf.contrib.rnn.LSTMCell`](https://www.tensorflow.org/api_docs/python/tf/contrib/rnn/LSTMCell) wrapped in a [`tf.contrib.rnn.DropoutWrapper`](https://www.tensorflow.org/api_docs/python/tf/contrib/rnn/DropoutWrapper)\n",
    " * Pass cell and embedded input to [`tf.nn.dynamic_rnn()`](https://www.tensorflow.org/api_docs/python/tf/nn/dynamic_rnn)"
   ]
  },
  {
   "cell_type": "code",
   "execution_count": 9,
   "metadata": {
    "scrolled": false
   },
   "outputs": [
    {
     "name": "stdout",
     "output_type": "stream",
     "text": [
      "Tests Passed\n"
     ]
    }
   ],
   "source": [
    "from imp import reload\n",
    "reload(tests)\n",
    "\n",
    "def encoding_layer(rnn_inputs, rnn_size, num_layers, keep_prob, \n",
    "                   source_sequence_length, source_vocab_size, \n",
    "                   encoding_embedding_size):\n",
    "    \"\"\"\n",
    "    Create encoding layer\n",
    "    :param rnn_inputs: Inputs for the RNN\n",
    "    :param rnn_size: RNN Size\n",
    "    :param num_layers: Number of layers\n",
    "    :param keep_prob: Dropout keep probability\n",
    "    :param source_sequence_length: a list of the lengths of each sequence in the batch\n",
    "    :param source_vocab_size: vocabulary size of source data\n",
    "    :param encoding_embedding_size: embedding size of source data\n",
    "    :return: tuple (RNN output, RNN state)\n",
    "    \"\"\"\n",
    "    # TODO: Implement Function\n",
    "    enc_input_emb = tf.contrib.layers.embed_sequence(rnn_inputs, source_vocab_size, encoding_embedding_size)\n",
    "    \n",
    "    def make_cell(rnn_size):\n",
    "        return tf.contrib.rnn.LSTMCell(rnn_size, initializer=tf.random_uniform_initializer(-0.1, 0.1, seed=2))\n",
    "    \n",
    "    stacked_lstm = tf.contrib.rnn.DropoutWrapper(tf.contrib.rnn.MultiRNNCell(\n",
    "                                                [make_cell(rnn_size) for _ in range(num_layers)]),\n",
    "                                                input_keep_prob=keep_prob)\n",
    "    \n",
    "    rnn_output, rnn_state = tf.nn.dynamic_rnn(stacked_lstm, enc_input_emb, sequence_length=source_sequence_length, dtype=tf.float32)\n",
    "    return (rnn_output, rnn_state)\n",
    "\n",
    "\"\"\"\n",
    "DON'T MODIFY ANYTHING IN THIS CELL THAT IS BELOW THIS LINE\n",
    "\"\"\"\n",
    "tests.test_encoding_layer(encoding_layer)"
   ]
  },
  {
   "cell_type": "markdown",
   "metadata": {},
   "source": [
    "### Decoding - Training\n",
    "Create a training decoding layer:\n",
    "* Create a [`tf.contrib.seq2seq.TrainingHelper`](https://www.tensorflow.org/api_docs/python/tf/contrib/seq2seq/TrainingHelper) \n",
    "* Create a [`tf.contrib.seq2seq.BasicDecoder`](https://www.tensorflow.org/api_docs/python/tf/contrib/seq2seq/BasicDecoder)\n",
    "* Obtain the decoder outputs from [`tf.contrib.seq2seq.dynamic_decode`](https://www.tensorflow.org/api_docs/python/tf/contrib/seq2seq/dynamic_decode)"
   ]
  },
  {
   "cell_type": "code",
   "execution_count": 10,
   "metadata": {},
   "outputs": [
    {
     "name": "stdout",
     "output_type": "stream",
     "text": [
      "Tests Passed\n"
     ]
    }
   ],
   "source": [
    "\n",
    "def decoding_layer_train(encoder_state, dec_cell, dec_embed_input, \n",
    "                         target_sequence_length, max_summary_length, \n",
    "                         output_layer, keep_prob):\n",
    "    \"\"\"\n",
    "    Create a decoding layer for training\n",
    "    :param encoder_state: Encoder State\n",
    "    :param dec_cell: Decoder RNN Cell\n",
    "    :param dec_embed_input: Decoder embedded input\n",
    "    :param target_sequence_length: The lengths of each sequence in the target batch\n",
    "    :param max_summary_length: The length of the longest sequence in the batch\n",
    "    :param output_layer: Function to apply the output layer\n",
    "    :param keep_prob: Dropout keep probability\n",
    "    :return: BasicDecoderOutput containing training logits and sample_id\n",
    "    \"\"\"\n",
    "    # TODO: Implement Function\n",
    "    train_helper = tf.contrib.seq2seq.TrainingHelper(inputs=dec_embed_input,\n",
    "                                                     sequence_length=target_sequence_length,\n",
    "                                                     time_major=False)\n",
    "    \n",
    "    basic_decoder = tf.contrib.seq2seq.BasicDecoder(dec_cell, train_helper, encoder_state, output_layer)\n",
    "    \n",
    "    basic_decoder_output = tf.contrib.seq2seq.dynamic_decode(basic_decoder, \n",
    "                                                             impute_finished=True,\n",
    "                                                             maximum_iterations = max_summary_length)[0]\n",
    "    \n",
    "    return basic_decoder_output #Basic Decoder Output object; tensor, sample_id\n",
    "\n",
    "\n",
    "\n",
    "\"\"\"\n",
    "DON'T MODIFY ANYTHING IN THIS CELL THAT IS BELOW THIS LINE\n",
    "\"\"\"\n",
    "tests.test_decoding_layer_train(decoding_layer_train)"
   ]
  },
  {
   "cell_type": "markdown",
   "metadata": {},
   "source": [
    "### Decoding - Inference\n",
    "Create inference decoder:\n",
    "* Create a [`tf.contrib.seq2seq.GreedyEmbeddingHelper`](https://www.tensorflow.org/api_docs/python/tf/contrib/seq2seq/GreedyEmbeddingHelper)\n",
    "* Create a [`tf.contrib.seq2seq.BasicDecoder`](https://www.tensorflow.org/api_docs/python/tf/contrib/seq2seq/BasicDecoder)\n",
    "* Obtain the decoder outputs from [`tf.contrib.seq2seq.dynamic_decode`](https://www.tensorflow.org/api_docs/python/tf/contrib/seq2seq/dynamic_decode)"
   ]
  },
  {
   "cell_type": "code",
   "execution_count": 11,
   "metadata": {
    "scrolled": true
   },
   "outputs": [
    {
     "name": "stdout",
     "output_type": "stream",
     "text": [
      "Tests Passed\n"
     ]
    }
   ],
   "source": [
    "def decoding_layer_infer(encoder_state, dec_cell, dec_embeddings, start_of_sequence_id,\n",
    "                         end_of_sequence_id, max_target_sequence_length,\n",
    "                         vocab_size, output_layer, batch_size, keep_prob):\n",
    "    \"\"\"\n",
    "    Create a decoding layer for inference\n",
    "    :param encoder_state: Encoder state\n",
    "    :param dec_cell: Decoder RNN Cell\n",
    "    :param dec_embeddings: Decoder embeddings\n",
    "    :param start_of_sequence_id: GO ID\n",
    "    :param end_of_sequence_id: EOS Id\n",
    "    :param max_target_sequence_length: Maximum length of target sequences\n",
    "    :param vocab_size: Size of decoder/target vocabulary\n",
    "    :param decoding_scope: TenorFlow Variable Scope for decoding\n",
    "    :param output_layer: Function to apply the output layer\n",
    "    :param batch_size: Batch size\n",
    "    :param keep_prob: Dropout keep probability\n",
    "    :return: BasicDecoderOutput containing inference logits and sample_id\n",
    "    \"\"\"\n",
    "    # TODO: Implement Function\n",
    "    # create start_token tensor (64, )\n",
    "\n",
    "    start_token = tf.tile(tf.constant([start_of_sequence_id], dtype=tf.int32), [batch_size], name='start_token')\n",
    "    \n",
    "    inf_helper = tf.contrib.seq2seq.GreedyEmbeddingHelper(dec_embeddings,\n",
    "                                                          start_token,\n",
    "                                                          end_of_sequence_id)\n",
    "    \n",
    "    inf_decoder = tf.contrib.seq2seq.BasicDecoder(dec_cell, inf_helper, encoder_state, output_layer)\n",
    "    \n",
    "    basic_decoder_output = tf.contrib.seq2seq.dynamic_decode(inf_decoder,\n",
    "                                                            impute_finished=True,\n",
    "                                                            maximum_iterations=max_target_sequence_length)[0]\n",
    "    \n",
    "    \n",
    "    #object, rnn output tensor shape (64, ?, 1000) --> float 32, sample ID shape (64, ?) --> int32)\n",
    "    return basic_decoder_output \n",
    "\n",
    "\n",
    "\n",
    "\"\"\"\n",
    "DON'T MODIFY ANYTHING IN THIS CELL THAT IS BELOW THIS LINE\n",
    "\"\"\"\n",
    "tests.test_decoding_layer_infer(decoding_layer_infer)"
   ]
  },
  {
   "cell_type": "markdown",
   "metadata": {},
   "source": [
    "### Build the Decoding Layer\n",
    "Implement `decoding_layer()` to create a Decoder RNN layer.\n",
    "\n",
    "* Embed the target sequences\n",
    "* Construct the decoder LSTM cell (just like you constructed the encoder cell above)\n",
    "* Create an output layer to map the outputs of the decoder to the elements of our vocabulary\n",
    "* Use the your `decoding_layer_train(encoder_state, dec_cell, dec_embed_input, target_sequence_length, max_target_sequence_length, output_layer, keep_prob)` function to get the training logits.\n",
    "* Use your `decoding_layer_infer(encoder_state, dec_cell, dec_embeddings, start_of_sequence_id, end_of_sequence_id, max_target_sequence_length, vocab_size, output_layer, batch_size, keep_prob)` function to get the inference logits.\n",
    "\n",
    "Note: You'll need to use [tf.variable_scope](https://www.tensorflow.org/api_docs/python/tf/variable_scope) to share variables between training and inference."
   ]
  },
  {
   "cell_type": "code",
   "execution_count": 12,
   "metadata": {},
   "outputs": [
    {
     "name": "stdout",
     "output_type": "stream",
     "text": [
      "Tests Passed\n"
     ]
    }
   ],
   "source": [
    "def decoding_layer(dec_input, encoder_state,\n",
    "                   target_sequence_length, max_target_sequence_length,\n",
    "                   rnn_size,\n",
    "                   num_layers, target_vocab_to_int, target_vocab_size,\n",
    "                   batch_size, keep_prob, decoding_embedding_size):\n",
    "    \"\"\"\n",
    "    Create decoding layer\n",
    "    :param dec_input: Decoder input --> Tensor(\"Placeholder:0\", shape=(64, 22), dtype=int32)\n",
    "    :param encoder_state: Encoder state --> LSTMStateTuple(c=<tf.Tensor 'Placeholder_4:0' shape=(?, 512) dtype=float32>\n",
    "    :param target_sequence_length: The lengths of each sequence in the target batch\n",
    "    :param max_target_sequence_length: Maximum length of target sequences\n",
    "    :param rnn_size: RNN Size\n",
    "    :param num_layers: Number of layers\n",
    "    :param target_vocab_to_int: Dictionary to go from the target words to an id\n",
    "    :param target_vocab_size: Size of target vocabulary --> 1000\n",
    "    :param batch_size: The size of the batch\n",
    "    :param keep_prob: Dropout keep probability\n",
    "    :param decoding_embedding_size: Decoding embedding size --> 200\n",
    "    :return: Tuple of (Training BasicDecoderOutput, Inference BasicDecoderOutput)\n",
    "    \"\"\"\n",
    "    # TODO: Implement Function\n",
    "    \n",
    "    start_of_sequence_id = target_vocab_to_int['<GO>']\n",
    "    end_of_sequence_id = target_vocab_to_int['<EOS>']\n",
    "\n",
    "    # embed target seq\n",
    "    dec_embeddings = tf.Variable(tf.random_uniform([target_vocab_size, decoding_embedding_size]))\n",
    "    dec_embed_input = tf.nn.embedding_lookup(dec_embeddings, dec_input)\n",
    "\n",
    "\n",
    "\n",
    "    # make LSTM decoder cell\n",
    "    def make_cell(rnn_size):\n",
    "        return tf.contrib.rnn.LSTMCell(rnn_size)\n",
    "\n",
    "    dec_cell = tf.contrib.rnn.MultiRNNCell(\n",
    "                                [make_cell(rnn_size) for _ in range(num_layers)])\n",
    "    \n",
    "    # create output layer\n",
    "    output_layer = Dense(target_vocab_size,\n",
    "                        kernel_initializer = tf.truncated_normal_initializer(mean = 0.0, stddev=0.1))\n",
    "        \n",
    "    with tf.variable_scope('decode'):\n",
    "        # use functions created above to get training and inference logits\n",
    "        train_basic_decoder_output = decoding_layer_train(encoder_state, dec_cell, dec_embed_input, \n",
    "                                            target_sequence_length, max_target_sequence_length,\n",
    "                                            output_layer, keep_prob)\n",
    "\n",
    "    with tf.variable_scope('decode', reuse=True):\n",
    "        inf_basic_decoder_output = decoding_layer_infer(encoder_state, dec_cell, dec_embeddings, start_of_sequence_id,\n",
    "                                            end_of_sequence_id, max_target_sequence_length, target_vocab_size,\n",
    "                                            output_layer, batch_size, keep_prob)\n",
    "\n",
    "\n",
    "    return (train_basic_decoder_output, inf_basic_decoder_output)\n",
    "    \n",
    "\n",
    "\"\"\"\n",
    "DON'T MODIFY ANYTHING IN THIS CELL THAT IS BELOW THIS LINE\n",
    "\"\"\"\n",
    "tests.test_decoding_layer(decoding_layer)"
   ]
  },
  {
   "cell_type": "raw",
   "metadata": {},
   "source": [
    "### Build the Neural Network\n",
    "Apply the functions you implemented above to:\n",
    "\n",
    "- Encode the input using your `encoding_layer(rnn_inputs, rnn_size, num_layers, keep_prob,  source_sequence_length, source_vocab_size, encoding_embedding_size)`.\n",
    "- Process target data using your `process_decoder_input(target_data, target_vocab_to_int, batch_size)` function.\n",
    "- Decode the encoded input using your `decoding_layer(dec_input, enc_state, target_sequence_length, max_target_sentence_length, rnn_size, num_layers, target_vocab_to_int, target_vocab_size, batch_size, keep_prob, dec_embedding_size)` function."
   ]
  },
  {
   "cell_type": "code",
   "execution_count": 13,
   "metadata": {},
   "outputs": [
    {
     "name": "stdout",
     "output_type": "stream",
     "text": [
      "Tests Passed\n"
     ]
    }
   ],
   "source": [
    "def seq2seq_model(input_data, target_data, keep_prob, batch_size,\n",
    "                  source_sequence_length, target_sequence_length,\n",
    "                  max_target_sentence_length,\n",
    "                  source_vocab_size, target_vocab_size,\n",
    "                  enc_embedding_size, dec_embedding_size,\n",
    "                  rnn_size, num_layers, target_vocab_to_int):\n",
    "    \"\"\"\n",
    "    Build the Sequence-to-Sequence part of the neural network\n",
    "    :param input_data: Input placeholder\n",
    "    :param target_data: Target placeholder\n",
    "    :param keep_prob: Dropout keep probability placeholder\n",
    "    :param batch_size: Batch Size\n",
    "    :param source_sequence_length: Sequence Lengths of source sequences in the batch\n",
    "    :param target_sequence_length: Sequence Lengths of target sequences in the batch\n",
    "    :param source_vocab_size: Source vocabulary size\n",
    "    :param target_vocab_size: Target vocabulary size\n",
    "    :param enc_embedding_size: Decoder embedding size\n",
    "    :param dec_embedding_size: Encoder embedding size\n",
    "    :param rnn_size: RNN Size\n",
    "    :param num_layers: Number of layers\n",
    "    :param target_vocab_to_int: Dictionary to go from the target words to an id\n",
    "    :return: Tuple of (Training BasicDecoderOutput, Inference BasicDecoderOutput)\n",
    "    \"\"\"\n",
    "    # TODO: Implement Function\n",
    "    \n",
    "    # encoding the input --> returns a tensor and LSTM state; using only state\n",
    "    _, enc_state = encoding_layer(input_data, rnn_size, num_layers, keep_prob,\n",
    "                         source_sequence_length, source_vocab_size,\n",
    "                         enc_embedding_size)\n",
    "    \n",
    "    # prep target sequences to decoder in training\n",
    "    dec = process_decoder_input(target_data, target_vocab_to_int, batch_size)\n",
    "    \n",
    "    # send encoder state and decoder sequence to decoders\n",
    "    training_basic_decoder_output, inference_basic_decoder_output = decoding_layer(\n",
    "                            target_data, enc_state, target_sequence_length,\n",
    "                            max_target_sentence_length, rnn_size, num_layers,\n",
    "                            target_vocab_to_int, target_vocab_size, batch_size,\n",
    "                            keep_prob, dec_embedding_size)\n",
    "    \n",
    "    return (training_basic_decoder_output, inference_basic_decoder_output)\n",
    "\n",
    "\n",
    "\"\"\"\n",
    "DON'T MODIFY ANYTHING IN THIS CELL THAT IS BELOW THIS LINE\n",
    "\"\"\"\n",
    "tests.test_seq2seq_model(seq2seq_model)"
   ]
  },
  {
   "cell_type": "markdown",
   "metadata": {},
   "source": [
    "## Neural Network Training\n",
    "### Hyperparameters\n",
    "Tune the following parameters:\n",
    "\n",
    "- Set `epochs` to the number of epochs.\n",
    "- Set `batch_size` to the batch size.\n",
    "- Set `rnn_size` to the size of the RNNs.\n",
    "- Set `num_layers` to the number of layers.\n",
    "- Set `encoding_embedding_size` to the size of the embedding for the encoder.\n",
    "- Set `decoding_embedding_size` to the size of the embedding for the decoder.\n",
    "- Set `learning_rate` to the learning rate.\n",
    "- Set `keep_probability` to the Dropout keep probability\n",
    "- Set `display_step` to state how many steps between each debug output statement"
   ]
  },
  {
   "cell_type": "code",
   "execution_count": 14,
   "metadata": {},
   "outputs": [],
   "source": [
    "# Number of Epochs\n",
    "epochs = 10\n",
    "# Batch Size\n",
    "batch_size = 128\n",
    "# RNN Size\n",
    "rnn_size = 128\n",
    "# Number of Layers\n",
    "num_layers = 2\n",
    "# Embedding Size\n",
    "encoding_embedding_size = 64\n",
    "decoding_embedding_size = 64\n",
    "# Learning Rate\n",
    "learning_rate = 0.0001\n",
    "# Dropout Keep Probability\n",
    "keep_probability = 0.70\n",
    "display_step = 50"
   ]
  },
  {
   "cell_type": "markdown",
   "metadata": {},
   "source": [
    "### Build the Graph\n",
    "Build the graph using the neural network you implemented."
   ]
  },
  {
   "cell_type": "code",
   "execution_count": 15,
   "metadata": {
    "collapsed": true
   },
   "outputs": [],
   "source": [
    "\"\"\"\n",
    "DON'T MODIFY ANYTHING IN THIS CELL\n",
    "\"\"\"\n",
    "save_path = 'checkpoints/dev'\n",
    "(source_int_text, target_int_text), (source_vocab_to_int, target_vocab_to_int), _ = helper.load_preprocess()\n",
    "max_target_sentence_length = max([len(sentence) for sentence in source_int_text])\n",
    "\n",
    "train_graph = tf.Graph()\n",
    "with train_graph.as_default():\n",
    "    input_data, targets, lr, keep_prob, target_sequence_length, max_target_sequence_length, source_sequence_length = model_inputs()\n",
    "\n",
    "    #sequence_length = tf.placeholder_with_default(max_target_sentence_length, None, name='sequence_length')\n",
    "    input_shape = tf.shape(input_data)\n",
    "\n",
    "    train_logits, inference_logits = seq2seq_model(tf.reverse(input_data, [-1]),\n",
    "                                                   targets,\n",
    "                                                   keep_prob,\n",
    "                                                   batch_size,\n",
    "                                                   source_sequence_length,\n",
    "                                                   target_sequence_length,\n",
    "                                                   max_target_sequence_length,\n",
    "                                                   len(source_vocab_to_int),\n",
    "                                                   len(target_vocab_to_int),\n",
    "                                                   encoding_embedding_size,\n",
    "                                                   decoding_embedding_size,\n",
    "                                                   rnn_size,\n",
    "                                                   num_layers,\n",
    "                                                   target_vocab_to_int)\n",
    "\n",
    "\n",
    "    training_logits = tf.identity(train_logits.rnn_output, name='logits')\n",
    "    inference_logits = tf.identity(inference_logits.sample_id, name='predictions')\n",
    "\n",
    "    masks = tf.sequence_mask(target_sequence_length, max_target_sequence_length, dtype=tf.float32, name='masks')\n",
    "\n",
    "    with tf.name_scope(\"optimization\"):\n",
    "        # Loss function\n",
    "        cost = tf.contrib.seq2seq.sequence_loss(\n",
    "            training_logits,\n",
    "            targets,\n",
    "            masks)\n",
    "\n",
    "        # Optimizer\n",
    "        optimizer = tf.train.AdamOptimizer(lr)\n",
    "\n",
    "        # Gradient Clipping\n",
    "        gradients = optimizer.compute_gradients(cost)\n",
    "        capped_gradients = [(tf.clip_by_value(grad, -1., 1.), var) for grad, var in gradients if grad is not None]\n",
    "        train_op = optimizer.apply_gradients(capped_gradients)\n"
   ]
  },
  {
   "cell_type": "markdown",
   "metadata": {},
   "source": [
    "Batch and pad the source and target sequences"
   ]
  },
  {
   "cell_type": "code",
   "execution_count": 16,
   "metadata": {
    "collapsed": true
   },
   "outputs": [],
   "source": [
    "\"\"\"\n",
    "DON'T MODIFY ANYTHING IN THIS CELL\n",
    "\"\"\"\n",
    "def pad_sentence_batch(sentence_batch, pad_int):\n",
    "    \"\"\"Pad sentences with <PAD> so that each sentence of a batch has the same length\"\"\"\n",
    "    max_sentence = max([len(sentence) for sentence in sentence_batch])\n",
    "    return [sentence + [pad_int] * (max_sentence - len(sentence)) for sentence in sentence_batch]\n",
    "\n",
    "\n",
    "def get_batches(sources, targets, batch_size, source_pad_int, target_pad_int):\n",
    "    \"\"\"Batch targets, sources, and the lengths of their sentences together\"\"\"\n",
    "    for batch_i in range(0, len(sources)//batch_size):\n",
    "        start_i = batch_i * batch_size\n",
    "\n",
    "        # Slice the right amount for the batch\n",
    "        sources_batch = sources[start_i:start_i + batch_size]\n",
    "        targets_batch = targets[start_i:start_i + batch_size]\n",
    "\n",
    "        # Pad\n",
    "        pad_sources_batch = np.array(pad_sentence_batch(sources_batch, source_pad_int))\n",
    "        pad_targets_batch = np.array(pad_sentence_batch(targets_batch, target_pad_int))\n",
    "\n",
    "        # Need the lengths for the _lengths parameters\n",
    "        pad_targets_lengths = []\n",
    "        for target in pad_targets_batch:\n",
    "            pad_targets_lengths.append(len(target))\n",
    "\n",
    "        pad_source_lengths = []\n",
    "        for source in pad_sources_batch:\n",
    "            pad_source_lengths.append(len(source))\n",
    "\n",
    "        yield pad_sources_batch, pad_targets_batch, pad_source_lengths, pad_targets_lengths\n"
   ]
  },
  {
   "cell_type": "markdown",
   "metadata": {},
   "source": [
    "### Train\n",
    "Train the neural network on the preprocessed data. If you have a hard time getting a good loss, check the forms to see if anyone is having the same problem."
   ]
  },
  {
   "cell_type": "code",
   "execution_count": 17,
   "metadata": {
    "scrolled": true
   },
   "outputs": [
    {
     "name": "stdout",
     "output_type": "stream",
     "text": [
      "Epoch   0 Batch   50/1077 - Train Accuracy: 0.2227, Validation Accuracy: 0.3089, Loss: 4.5802\n",
      "Epoch   0 Batch  100/1077 - Train Accuracy: 0.2742, Validation Accuracy: 0.3523, Loss: 3.7415\n",
      "Epoch   0 Batch  150/1077 - Train Accuracy: 0.3523, Validation Accuracy: 0.3700, Loss: 3.1708\n",
      "Epoch   0 Batch  200/1077 - Train Accuracy: 0.3418, Validation Accuracy: 0.3920, Loss: 3.0813\n",
      "Epoch   0 Batch  250/1077 - Train Accuracy: 0.4205, Validation Accuracy: 0.4162, Loss: 2.7248\n",
      "Epoch   0 Batch  300/1077 - Train Accuracy: 0.3269, Validation Accuracy: 0.4048, Loss: 2.9919\n",
      "Epoch   0 Batch  350/1077 - Train Accuracy: 0.3293, Validation Accuracy: 0.3825, Loss: 2.8503\n",
      "Epoch   0 Batch  400/1077 - Train Accuracy: 0.3102, Validation Accuracy: 0.3835, Loss: 2.7307\n",
      "Epoch   0 Batch  450/1077 - Train Accuracy: 0.3590, Validation Accuracy: 0.3920, Loss: 2.6556\n",
      "Epoch   0 Batch  500/1077 - Train Accuracy: 0.3906, Validation Accuracy: 0.4411, Loss: 2.5619\n",
      "Epoch   0 Batch  550/1077 - Train Accuracy: 0.3613, Validation Accuracy: 0.4464, Loss: 2.6097\n",
      "Epoch   0 Batch  600/1077 - Train Accuracy: 0.4301, Validation Accuracy: 0.4609, Loss: 2.3618\n",
      "Epoch   0 Batch  650/1077 - Train Accuracy: 0.3918, Validation Accuracy: 0.4542, Loss: 2.4812\n",
      "Epoch   0 Batch  700/1077 - Train Accuracy: 0.4180, Validation Accuracy: 0.4403, Loss: 2.3561\n",
      "Epoch   0 Batch  750/1077 - Train Accuracy: 0.4125, Validation Accuracy: 0.4606, Loss: 2.3609\n",
      "Epoch   0 Batch  800/1077 - Train Accuracy: 0.4137, Validation Accuracy: 0.4570, Loss: 2.3563\n",
      "Epoch   0 Batch  850/1077 - Train Accuracy: 0.4141, Validation Accuracy: 0.4553, Loss: 2.2807\n",
      "Epoch   0 Batch  900/1077 - Train Accuracy: 0.4238, Validation Accuracy: 0.4812, Loss: 2.3021\n",
      "Epoch   0 Batch  950/1077 - Train Accuracy: 0.4278, Validation Accuracy: 0.4627, Loss: 2.1579\n",
      "Epoch   0 Batch 1000/1077 - Train Accuracy: 0.4661, Validation Accuracy: 0.4790, Loss: 2.0382\n",
      "Epoch   0 Batch 1050/1077 - Train Accuracy: 0.4195, Validation Accuracy: 0.4886, Loss: 2.2018\n",
      "Epoch   1 Batch   50/1077 - Train Accuracy: 0.4426, Validation Accuracy: 0.5067, Loss: 2.1062\n",
      "Epoch   1 Batch  100/1077 - Train Accuracy: 0.4570, Validation Accuracy: 0.5071, Loss: 2.0360\n",
      "Epoch   1 Batch  150/1077 - Train Accuracy: 0.4818, Validation Accuracy: 0.5043, Loss: 1.8969\n",
      "Epoch   1 Batch  200/1077 - Train Accuracy: 0.4613, Validation Accuracy: 0.5117, Loss: 1.9708\n",
      "Epoch   1 Batch  250/1077 - Train Accuracy: 0.4815, Validation Accuracy: 0.5050, Loss: 1.7870\n",
      "Epoch   1 Batch  300/1077 - Train Accuracy: 0.4437, Validation Accuracy: 0.5057, Loss: 1.9974\n",
      "Epoch   1 Batch  350/1077 - Train Accuracy: 0.4293, Validation Accuracy: 0.4989, Loss: 1.9610\n",
      "Epoch   1 Batch  400/1077 - Train Accuracy: 0.4539, Validation Accuracy: 0.5099, Loss: 1.8633\n",
      "Epoch   1 Batch  450/1077 - Train Accuracy: 0.4535, Validation Accuracy: 0.5082, Loss: 1.8373\n",
      "Epoch   1 Batch  500/1077 - Train Accuracy: 0.4824, Validation Accuracy: 0.5075, Loss: 1.7886\n",
      "Epoch   1 Batch  550/1077 - Train Accuracy: 0.4344, Validation Accuracy: 0.5227, Loss: 1.8176\n",
      "Epoch   1 Batch  600/1077 - Train Accuracy: 0.4896, Validation Accuracy: 0.5153, Loss: 1.6703\n",
      "Epoch   1 Batch  650/1077 - Train Accuracy: 0.4500, Validation Accuracy: 0.5007, Loss: 1.7397\n",
      "Epoch   1 Batch  700/1077 - Train Accuracy: 0.4539, Validation Accuracy: 0.4968, Loss: 1.6639\n",
      "Epoch   1 Batch  750/1077 - Train Accuracy: 0.4582, Validation Accuracy: 0.4979, Loss: 1.6710\n",
      "Epoch   1 Batch  800/1077 - Train Accuracy: 0.4398, Validation Accuracy: 0.4957, Loss: 1.6940\n",
      "Epoch   1 Batch  850/1077 - Train Accuracy: 0.4810, Validation Accuracy: 0.5007, Loss: 1.6500\n",
      "Epoch   1 Batch  900/1077 - Train Accuracy: 0.4566, Validation Accuracy: 0.5007, Loss: 1.6694\n",
      "Epoch   1 Batch  950/1077 - Train Accuracy: 0.4546, Validation Accuracy: 0.4975, Loss: 1.5745\n",
      "Epoch   1 Batch 1000/1077 - Train Accuracy: 0.4836, Validation Accuracy: 0.4908, Loss: 1.5023\n",
      "Epoch   1 Batch 1050/1077 - Train Accuracy: 0.4324, Validation Accuracy: 0.4929, Loss: 1.6220\n",
      "Epoch   2 Batch   50/1077 - Train Accuracy: 0.4426, Validation Accuracy: 0.4989, Loss: 1.5585\n",
      "Epoch   2 Batch  100/1077 - Train Accuracy: 0.4496, Validation Accuracy: 0.4929, Loss: 1.4987\n",
      "Epoch   2 Batch  150/1077 - Train Accuracy: 0.4784, Validation Accuracy: 0.4961, Loss: 1.4157\n",
      "Epoch   2 Batch  200/1077 - Train Accuracy: 0.4535, Validation Accuracy: 0.4986, Loss: 1.4716\n",
      "Epoch   2 Batch  250/1077 - Train Accuracy: 0.4719, Validation Accuracy: 0.4911, Loss: 1.3365\n",
      "Epoch   2 Batch  300/1077 - Train Accuracy: 0.4326, Validation Accuracy: 0.4901, Loss: 1.5043\n",
      "Epoch   2 Batch  350/1077 - Train Accuracy: 0.4309, Validation Accuracy: 0.4993, Loss: 1.4883\n",
      "Epoch   2 Batch  400/1077 - Train Accuracy: 0.4375, Validation Accuracy: 0.4876, Loss: 1.4136\n",
      "Epoch   2 Batch  450/1077 - Train Accuracy: 0.4434, Validation Accuracy: 0.4819, Loss: 1.3857\n",
      "Epoch   2 Batch  500/1077 - Train Accuracy: 0.4594, Validation Accuracy: 0.4925, Loss: 1.3528\n",
      "Epoch   2 Batch  550/1077 - Train Accuracy: 0.4027, Validation Accuracy: 0.4723, Loss: 1.3493\n",
      "Epoch   2 Batch  600/1077 - Train Accuracy: 0.4438, Validation Accuracy: 0.4755, Loss: 1.2622\n",
      "Epoch   2 Batch  650/1077 - Train Accuracy: 0.4191, Validation Accuracy: 0.4560, Loss: 1.2898\n",
      "Epoch   2 Batch  700/1077 - Train Accuracy: 0.4313, Validation Accuracy: 0.4574, Loss: 1.2386\n",
      "Epoch   2 Batch  750/1077 - Train Accuracy: 0.4273, Validation Accuracy: 0.4716, Loss: 1.2275\n",
      "Epoch   2 Batch  800/1077 - Train Accuracy: 0.3961, Validation Accuracy: 0.4638, Loss: 1.2657\n",
      "Epoch   2 Batch  850/1077 - Train Accuracy: 0.4241, Validation Accuracy: 0.4634, Loss: 1.2275\n",
      "Epoch   2 Batch  900/1077 - Train Accuracy: 0.3816, Validation Accuracy: 0.4485, Loss: 1.2407\n",
      "Epoch   2 Batch  950/1077 - Train Accuracy: 0.4256, Validation Accuracy: 0.4751, Loss: 1.1524\n",
      "Epoch   2 Batch 1000/1077 - Train Accuracy: 0.4751, Validation Accuracy: 0.4663, Loss: 1.1078\n",
      "Epoch   2 Batch 1050/1077 - Train Accuracy: 0.3863, Validation Accuracy: 0.4638, Loss: 1.1745\n",
      "Epoch   3 Batch   50/1077 - Train Accuracy: 0.4359, Validation Accuracy: 0.4801, Loss: 1.1255\n",
      "Epoch   3 Batch  100/1077 - Train Accuracy: 0.3680, Validation Accuracy: 0.4339, Loss: 1.0716\n",
      "Epoch   3 Batch  150/1077 - Train Accuracy: 0.4535, Validation Accuracy: 0.4698, Loss: 1.0112\n",
      "Epoch   3 Batch  200/1077 - Train Accuracy: 0.3996, Validation Accuracy: 0.4695, Loss: 1.0596\n",
      "Epoch   3 Batch  250/1077 - Train Accuracy: 0.3942, Validation Accuracy: 0.4350, Loss: 0.9383\n",
      "Epoch   3 Batch  300/1077 - Train Accuracy: 0.3392, Validation Accuracy: 0.4276, Loss: 1.0546\n",
      "Epoch   3 Batch  350/1077 - Train Accuracy: 0.3441, Validation Accuracy: 0.4087, Loss: 1.0414\n",
      "Epoch   3 Batch  400/1077 - Train Accuracy: 0.3711, Validation Accuracy: 0.3874, Loss: 0.9800\n",
      "Epoch   3 Batch  450/1077 - Train Accuracy: 0.3895, Validation Accuracy: 0.4389, Loss: 0.9599\n",
      "Epoch   3 Batch  500/1077 - Train Accuracy: 0.3734, Validation Accuracy: 0.4059, Loss: 0.9260\n",
      "Epoch   3 Batch  550/1077 - Train Accuracy: 0.3660, Validation Accuracy: 0.4247, Loss: 0.9230\n",
      "Epoch   3 Batch  600/1077 - Train Accuracy: 0.3702, Validation Accuracy: 0.3757, Loss: 0.8467\n",
      "Epoch   3 Batch  650/1077 - Train Accuracy: 0.3496, Validation Accuracy: 0.3704, Loss: 0.8673\n",
      "Epoch   3 Batch  700/1077 - Train Accuracy: 0.3207, Validation Accuracy: 0.3438, Loss: 0.8247\n",
      "Epoch   3 Batch  750/1077 - Train Accuracy: 0.3379, Validation Accuracy: 0.3569, Loss: 0.8085\n",
      "Epoch   3 Batch  800/1077 - Train Accuracy: 0.2922, Validation Accuracy: 0.3395, Loss: 0.8296\n",
      "Epoch   3 Batch  850/1077 - Train Accuracy: 0.3493, Validation Accuracy: 0.3548, Loss: 0.8247\n",
      "Epoch   3 Batch  900/1077 - Train Accuracy: 0.2758, Validation Accuracy: 0.3281, Loss: 0.8009\n",
      "Epoch   3 Batch  950/1077 - Train Accuracy: 0.2980, Validation Accuracy: 0.3491, Loss: 0.7370\n",
      "Epoch   3 Batch 1000/1077 - Train Accuracy: 0.3065, Validation Accuracy: 0.3235, Loss: 0.7195\n",
      "Epoch   3 Batch 1050/1077 - Train Accuracy: 0.2559, Validation Accuracy: 0.3249, Loss: 0.7446\n",
      "Epoch   4 Batch   50/1077 - Train Accuracy: 0.2730, Validation Accuracy: 0.3313, Loss: 0.7020\n",
      "Epoch   4 Batch  100/1077 - Train Accuracy: 0.2625, Validation Accuracy: 0.3129, Loss: 0.6712\n",
      "Epoch   4 Batch  150/1077 - Train Accuracy: 0.3065, Validation Accuracy: 0.3146, Loss: 0.6461\n",
      "Epoch   4 Batch  200/1077 - Train Accuracy: 0.2660, Validation Accuracy: 0.3100, Loss: 0.6762\n"
     ]
    },
    {
     "name": "stdout",
     "output_type": "stream",
     "text": [
      "Epoch   4 Batch  250/1077 - Train Accuracy: 0.2596, Validation Accuracy: 0.2820, Loss: 0.5733\n",
      "Epoch   4 Batch  300/1077 - Train Accuracy: 0.2142, Validation Accuracy: 0.2695, Loss: 0.6405\n",
      "Epoch   4 Batch  350/1077 - Train Accuracy: 0.2043, Validation Accuracy: 0.2656, Loss: 0.6330\n",
      "Epoch   4 Batch  400/1077 - Train Accuracy: 0.1945, Validation Accuracy: 0.2514, Loss: 0.5904\n",
      "Epoch   4 Batch  450/1077 - Train Accuracy: 0.2270, Validation Accuracy: 0.2525, Loss: 0.5753\n",
      "Epoch   4 Batch  500/1077 - Train Accuracy: 0.1867, Validation Accuracy: 0.2433, Loss: 0.5625\n",
      "Epoch   4 Batch  550/1077 - Train Accuracy: 0.1902, Validation Accuracy: 0.2479, Loss: 0.5594\n",
      "Epoch   4 Batch  600/1077 - Train Accuracy: 0.2232, Validation Accuracy: 0.2358, Loss: 0.4987\n",
      "Epoch   4 Batch  650/1077 - Train Accuracy: 0.1855, Validation Accuracy: 0.2347, Loss: 0.5222\n",
      "Epoch   4 Batch  700/1077 - Train Accuracy: 0.1844, Validation Accuracy: 0.2163, Loss: 0.4907\n",
      "Epoch   4 Batch  750/1077 - Train Accuracy: 0.1812, Validation Accuracy: 0.2124, Loss: 0.4808\n",
      "Epoch   4 Batch  800/1077 - Train Accuracy: 0.1762, Validation Accuracy: 0.2081, Loss: 0.4870\n",
      "Epoch   4 Batch  850/1077 - Train Accuracy: 0.1853, Validation Accuracy: 0.1942, Loss: 0.5003\n",
      "Epoch   4 Batch  900/1077 - Train Accuracy: 0.1953, Validation Accuracy: 0.2085, Loss: 0.4780\n",
      "Epoch   4 Batch  950/1077 - Train Accuracy: 0.1678, Validation Accuracy: 0.1907, Loss: 0.4260\n",
      "Epoch   4 Batch 1000/1077 - Train Accuracy: 0.2054, Validation Accuracy: 0.1911, Loss: 0.4294\n",
      "Epoch   4 Batch 1050/1077 - Train Accuracy: 0.1668, Validation Accuracy: 0.1832, Loss: 0.4309\n",
      "Epoch   5 Batch   50/1077 - Train Accuracy: 0.1750, Validation Accuracy: 0.1818, Loss: 0.4085\n",
      "Epoch   5 Batch  100/1077 - Train Accuracy: 0.1695, Validation Accuracy: 0.1822, Loss: 0.3928\n",
      "Epoch   5 Batch  150/1077 - Train Accuracy: 0.2139, Validation Accuracy: 0.1857, Loss: 0.3871\n",
      "Epoch   5 Batch  200/1077 - Train Accuracy: 0.1680, Validation Accuracy: 0.1868, Loss: 0.4025\n",
      "Epoch   5 Batch  250/1077 - Train Accuracy: 0.2013, Validation Accuracy: 0.2006, Loss: 0.3314\n",
      "Epoch   5 Batch  300/1077 - Train Accuracy: 0.1657, Validation Accuracy: 0.1907, Loss: 0.3686\n",
      "Epoch   5 Batch  350/1077 - Train Accuracy: 0.1816, Validation Accuracy: 0.1950, Loss: 0.3668\n",
      "Epoch   5 Batch  400/1077 - Train Accuracy: 0.1840, Validation Accuracy: 0.2099, Loss: 0.3349\n",
      "Epoch   5 Batch  450/1077 - Train Accuracy: 0.2148, Validation Accuracy: 0.2035, Loss: 0.3282\n",
      "Epoch   5 Batch  500/1077 - Train Accuracy: 0.1902, Validation Accuracy: 0.2248, Loss: 0.3174\n",
      "Epoch   5 Batch  550/1077 - Train Accuracy: 0.1871, Validation Accuracy: 0.2319, Loss: 0.3201\n",
      "Epoch   5 Batch  600/1077 - Train Accuracy: 0.2180, Validation Accuracy: 0.2188, Loss: 0.2737\n",
      "Epoch   5 Batch  650/1077 - Train Accuracy: 0.2168, Validation Accuracy: 0.2383, Loss: 0.2966\n",
      "Epoch   5 Batch  700/1077 - Train Accuracy: 0.2145, Validation Accuracy: 0.2312, Loss: 0.2773\n",
      "Epoch   5 Batch  750/1077 - Train Accuracy: 0.2004, Validation Accuracy: 0.2404, Loss: 0.2662\n",
      "Epoch   5 Batch  800/1077 - Train Accuracy: 0.2133, Validation Accuracy: 0.2631, Loss: 0.2656\n",
      "Epoch   5 Batch  850/1077 - Train Accuracy: 0.2411, Validation Accuracy: 0.2670, Loss: 0.2858\n",
      "Epoch   5 Batch  900/1077 - Train Accuracy: 0.2512, Validation Accuracy: 0.2482, Loss: 0.2677\n",
      "Epoch   5 Batch  950/1077 - Train Accuracy: 0.2586, Validation Accuracy: 0.2848, Loss: 0.2236\n",
      "Epoch   5 Batch 1000/1077 - Train Accuracy: 0.2887, Validation Accuracy: 0.2812, Loss: 0.2342\n",
      "Epoch   5 Batch 1050/1077 - Train Accuracy: 0.2191, Validation Accuracy: 0.2880, Loss: 0.2260\n",
      "Epoch   6 Batch   50/1077 - Train Accuracy: 0.2125, Validation Accuracy: 0.2756, Loss: 0.2139\n",
      "Epoch   6 Batch  100/1077 - Train Accuracy: 0.2570, Validation Accuracy: 0.2912, Loss: 0.2041\n",
      "Epoch   6 Batch  150/1077 - Train Accuracy: 0.2719, Validation Accuracy: 0.2788, Loss: 0.2079\n",
      "Epoch   6 Batch  200/1077 - Train Accuracy: 0.2484, Validation Accuracy: 0.3018, Loss: 0.2169\n",
      "Epoch   6 Batch  250/1077 - Train Accuracy: 0.2638, Validation Accuracy: 0.2720, Loss: 0.1691\n",
      "Epoch   6 Batch  300/1077 - Train Accuracy: 0.1982, Validation Accuracy: 0.2741, Loss: 0.1852\n",
      "Epoch   6 Batch  350/1077 - Train Accuracy: 0.2320, Validation Accuracy: 0.2745, Loss: 0.1887\n",
      "Epoch   6 Batch  400/1077 - Train Accuracy: 0.2430, Validation Accuracy: 0.2830, Loss: 0.1665\n",
      "Epoch   6 Batch  450/1077 - Train Accuracy: 0.2832, Validation Accuracy: 0.3086, Loss: 0.1683\n",
      "Epoch   6 Batch  500/1077 - Train Accuracy: 0.2480, Validation Accuracy: 0.2830, Loss: 0.1530\n",
      "Epoch   6 Batch  550/1077 - Train Accuracy: 0.2246, Validation Accuracy: 0.2955, Loss: 0.1575\n",
      "Epoch   6 Batch  600/1077 - Train Accuracy: 0.2887, Validation Accuracy: 0.2937, Loss: 0.1314\n",
      "Epoch   6 Batch  650/1077 - Train Accuracy: 0.2250, Validation Accuracy: 0.2791, Loss: 0.1480\n",
      "Epoch   6 Batch  700/1077 - Train Accuracy: 0.2457, Validation Accuracy: 0.2653, Loss: 0.1359\n",
      "Epoch   6 Batch  750/1077 - Train Accuracy: 0.2473, Validation Accuracy: 0.2809, Loss: 0.1281\n",
      "Epoch   6 Batch  800/1077 - Train Accuracy: 0.2359, Validation Accuracy: 0.2894, Loss: 0.1256\n",
      "Epoch   6 Batch  850/1077 - Train Accuracy: 0.2708, Validation Accuracy: 0.2987, Loss: 0.1494\n",
      "Epoch   6 Batch  900/1077 - Train Accuracy: 0.2543, Validation Accuracy: 0.2749, Loss: 0.1364\n",
      "Epoch   6 Batch  950/1077 - Train Accuracy: 0.2455, Validation Accuracy: 0.2809, Loss: 0.0979\n",
      "Epoch   6 Batch 1000/1077 - Train Accuracy: 0.2746, Validation Accuracy: 0.2766, Loss: 0.1136\n",
      "Epoch   6 Batch 1050/1077 - Train Accuracy: 0.2309, Validation Accuracy: 0.2734, Loss: 0.1056\n",
      "Epoch   7 Batch   50/1077 - Train Accuracy: 0.2160, Validation Accuracy: 0.2770, Loss: 0.0999\n",
      "Epoch   7 Batch  100/1077 - Train Accuracy: 0.2320, Validation Accuracy: 0.2809, Loss: 0.0965\n",
      "Epoch   7 Batch  150/1077 - Train Accuracy: 0.2719, Validation Accuracy: 0.2504, Loss: 0.1031\n",
      "Epoch   7 Batch  200/1077 - Train Accuracy: 0.2484, Validation Accuracy: 0.2724, Loss: 0.1117\n",
      "Epoch   7 Batch  250/1077 - Train Accuracy: 0.2646, Validation Accuracy: 0.2624, Loss: 0.0804\n",
      "Epoch   7 Batch  300/1077 - Train Accuracy: 0.2130, Validation Accuracy: 0.2670, Loss: 0.0868\n",
      "Epoch   7 Batch  350/1077 - Train Accuracy: 0.2141, Validation Accuracy: 0.2582, Loss: 0.0938\n",
      "Epoch   7 Batch  400/1077 - Train Accuracy: 0.2254, Validation Accuracy: 0.2525, Loss: 0.0828\n",
      "Epoch   7 Batch  450/1077 - Train Accuracy: 0.2523, Validation Accuracy: 0.2770, Loss: 0.0824\n",
      "Epoch   7 Batch  500/1077 - Train Accuracy: 0.2379, Validation Accuracy: 0.2692, Loss: 0.0704\n",
      "Epoch   7 Batch  550/1077 - Train Accuracy: 0.2215, Validation Accuracy: 0.2741, Loss: 0.0759\n",
      "Epoch   7 Batch  600/1077 - Train Accuracy: 0.2768, Validation Accuracy: 0.2777, Loss: 0.0617\n",
      "Epoch   7 Batch  650/1077 - Train Accuracy: 0.2207, Validation Accuracy: 0.2631, Loss: 0.0749\n",
      "Epoch   7 Batch  700/1077 - Train Accuracy: 0.2188, Validation Accuracy: 0.2528, Loss: 0.0685\n",
      "Epoch   7 Batch  750/1077 - Train Accuracy: 0.2203, Validation Accuracy: 0.2607, Loss: 0.0633\n",
      "Epoch   7 Batch  800/1077 - Train Accuracy: 0.2191, Validation Accuracy: 0.2699, Loss: 0.0637\n",
      "Epoch   7 Batch  850/1077 - Train Accuracy: 0.2481, Validation Accuracy: 0.2688, Loss: 0.0845\n",
      "Epoch   7 Batch  900/1077 - Train Accuracy: 0.2234, Validation Accuracy: 0.2585, Loss: 0.0734\n",
      "Epoch   7 Batch  950/1077 - Train Accuracy: 0.2247, Validation Accuracy: 0.2575, Loss: 0.0453\n",
      "Epoch   7 Batch 1000/1077 - Train Accuracy: 0.2400, Validation Accuracy: 0.2528, Loss: 0.0585\n",
      "Epoch   7 Batch 1050/1077 - Train Accuracy: 0.2027, Validation Accuracy: 0.2521, Loss: 0.0530\n",
      "Epoch   8 Batch   50/1077 - Train Accuracy: 0.1801, Validation Accuracy: 0.2543, Loss: 0.0519\n",
      "Epoch   8 Batch  100/1077 - Train Accuracy: 0.2086, Validation Accuracy: 0.2532, Loss: 0.0500\n",
      "Epoch   8 Batch  150/1077 - Train Accuracy: 0.2567, Validation Accuracy: 0.2589, Loss: 0.0567\n",
      "Epoch   8 Batch  200/1077 - Train Accuracy: 0.2148, Validation Accuracy: 0.2571, Loss: 0.0642\n",
      "Epoch   8 Batch  250/1077 - Train Accuracy: 0.2415, Validation Accuracy: 0.2450, Loss: 0.0424\n",
      "Epoch   8 Batch  300/1077 - Train Accuracy: 0.1731, Validation Accuracy: 0.2528, Loss: 0.0454\n",
      "Epoch   8 Batch  350/1077 - Train Accuracy: 0.1617, Validation Accuracy: 0.2326, Loss: 0.0517\n",
      "Epoch   8 Batch  400/1077 - Train Accuracy: 0.1922, Validation Accuracy: 0.2347, Loss: 0.0493\n"
     ]
    },
    {
     "name": "stdout",
     "output_type": "stream",
     "text": [
      "Epoch   8 Batch  450/1077 - Train Accuracy: 0.2047, Validation Accuracy: 0.2592, Loss: 0.0435\n",
      "Epoch   8 Batch  500/1077 - Train Accuracy: 0.1918, Validation Accuracy: 0.2305, Loss: 0.0357\n",
      "Epoch   8 Batch  550/1077 - Train Accuracy: 0.1871, Validation Accuracy: 0.2322, Loss: 0.0410\n",
      "Epoch   8 Batch  600/1077 - Train Accuracy: 0.2176, Validation Accuracy: 0.2447, Loss: 0.0328\n",
      "Epoch   8 Batch  650/1077 - Train Accuracy: 0.1652, Validation Accuracy: 0.2301, Loss: 0.0422\n",
      "Epoch   8 Batch  700/1077 - Train Accuracy: 0.1984, Validation Accuracy: 0.2393, Loss: 0.0371\n",
      "Epoch   8 Batch  750/1077 - Train Accuracy: 0.1664, Validation Accuracy: 0.2308, Loss: 0.0354\n",
      "Epoch   8 Batch  800/1077 - Train Accuracy: 0.1852, Validation Accuracy: 0.2404, Loss: 0.0365\n",
      "Epoch   8 Batch  850/1077 - Train Accuracy: 0.1838, Validation Accuracy: 0.2322, Loss: 0.0526\n",
      "Epoch   8 Batch  900/1077 - Train Accuracy: 0.1719, Validation Accuracy: 0.2124, Loss: 0.0434\n",
      "Epoch   8 Batch  950/1077 - Train Accuracy: 0.1953, Validation Accuracy: 0.2237, Loss: 0.0228\n",
      "Epoch   8 Batch 1000/1077 - Train Accuracy: 0.2128, Validation Accuracy: 0.2209, Loss: 0.0318\n",
      "Epoch   8 Batch 1050/1077 - Train Accuracy: 0.1574, Validation Accuracy: 0.2145, Loss: 0.0296\n",
      "Epoch   9 Batch   50/1077 - Train Accuracy: 0.1582, Validation Accuracy: 0.2021, Loss: 0.0304\n",
      "Epoch   9 Batch  100/1077 - Train Accuracy: 0.1680, Validation Accuracy: 0.2063, Loss: 0.0274\n",
      "Epoch   9 Batch  150/1077 - Train Accuracy: 0.2173, Validation Accuracy: 0.2092, Loss: 0.0343\n",
      "Epoch   9 Batch  200/1077 - Train Accuracy: 0.1789, Validation Accuracy: 0.2113, Loss: 0.0403\n",
      "Epoch   9 Batch  250/1077 - Train Accuracy: 0.1950, Validation Accuracy: 0.1879, Loss: 0.0243\n",
      "Epoch   9 Batch  300/1077 - Train Accuracy: 0.1653, Validation Accuracy: 0.2067, Loss: 0.0247\n",
      "Epoch   9 Batch  350/1077 - Train Accuracy: 0.1398, Validation Accuracy: 0.1886, Loss: 0.0306\n",
      "Epoch   9 Batch  400/1077 - Train Accuracy: 0.1578, Validation Accuracy: 0.1900, Loss: 0.0335\n",
      "Epoch   9 Batch  450/1077 - Train Accuracy: 0.1832, Validation Accuracy: 0.1996, Loss: 0.0247\n",
      "Epoch   9 Batch  500/1077 - Train Accuracy: 0.1691, Validation Accuracy: 0.1847, Loss: 0.0196\n",
      "Epoch   9 Batch  550/1077 - Train Accuracy: 0.1547, Validation Accuracy: 0.1854, Loss: 0.0237\n",
      "Epoch   9 Batch  600/1077 - Train Accuracy: 0.1979, Validation Accuracy: 0.1921, Loss: 0.0187\n",
      "Epoch   9 Batch  650/1077 - Train Accuracy: 0.1531, Validation Accuracy: 0.1896, Loss: 0.0252\n",
      "Epoch   9 Batch  700/1077 - Train Accuracy: 0.1938, Validation Accuracy: 0.1953, Loss: 0.0211\n",
      "Epoch   9 Batch  750/1077 - Train Accuracy: 0.1652, Validation Accuracy: 0.1864, Loss: 0.0209\n",
      "Epoch   9 Batch  800/1077 - Train Accuracy: 0.1785, Validation Accuracy: 0.1989, Loss: 0.0222\n",
      "Epoch   9 Batch  850/1077 - Train Accuracy: 0.1775, Validation Accuracy: 0.1974, Loss: 0.0348\n",
      "Epoch   9 Batch  900/1077 - Train Accuracy: 0.1738, Validation Accuracy: 0.1978, Loss: 0.0268\n",
      "Epoch   9 Batch  950/1077 - Train Accuracy: 0.2098, Validation Accuracy: 0.1946, Loss: 0.0125\n",
      "Epoch   9 Batch 1000/1077 - Train Accuracy: 0.2128, Validation Accuracy: 0.1982, Loss: 0.0179\n",
      "Epoch   9 Batch 1050/1077 - Train Accuracy: 0.1539, Validation Accuracy: 0.1907, Loss: 0.0180\n",
      "Model Trained and Saved\n"
     ]
    }
   ],
   "source": [
    "\"\"\"\n",
    "DON'T MODIFY ANYTHING IN THIS CELL\n",
    "\"\"\"\n",
    "def get_accuracy(target, logits):\n",
    "    \"\"\"\n",
    "    Calculate accuracy\n",
    "    \"\"\"\n",
    "    max_seq = max(target.shape[1], logits.shape[1])\n",
    "    if max_seq - target.shape[1]:\n",
    "        target = np.pad(\n",
    "            target,\n",
    "            [(0,0),(0,max_seq - target.shape[1])],\n",
    "            'constant')\n",
    "    if max_seq - logits.shape[1]:\n",
    "        logits = np.pad(\n",
    "            logits,\n",
    "            [(0,0),(0,max_seq - logits.shape[1])],\n",
    "            'constant')\n",
    "\n",
    "    return np.mean(np.equal(target, logits))\n",
    "\n",
    "# Split data to training and validation sets\n",
    "train_source = source_int_text[batch_size:]\n",
    "train_target = target_int_text[batch_size:]\n",
    "valid_source = source_int_text[:batch_size]\n",
    "valid_target = target_int_text[:batch_size]\n",
    "(valid_sources_batch, valid_targets_batch, valid_sources_lengths, valid_targets_lengths ) = next(get_batches(valid_source,\n",
    "                                                                                                             valid_target,\n",
    "                                                                                                             batch_size,\n",
    "                                                                                                             source_vocab_to_int['<PAD>'],\n",
    "                                                                                                             target_vocab_to_int['<PAD>']))                                                                                                  \n",
    "with tf.Session(graph=train_graph) as sess:\n",
    "    sess.run(tf.global_variables_initializer())\n",
    "\n",
    "    for epoch_i in range(epochs):\n",
    "        for batch_i, (source_batch, target_batch, sources_lengths, targets_lengths) in enumerate(\n",
    "                get_batches(train_source, train_target, batch_size,\n",
    "                            source_vocab_to_int['<PAD>'],\n",
    "                            target_vocab_to_int['<PAD>'])):\n",
    "\n",
    "            _, loss = sess.run(\n",
    "                [train_op, cost],\n",
    "                {input_data: source_batch,\n",
    "                 targets: target_batch,\n",
    "                 lr: learning_rate,\n",
    "                 target_sequence_length: targets_lengths,\n",
    "                 source_sequence_length: sources_lengths,\n",
    "                 keep_prob: keep_probability})\n",
    "\n",
    "\n",
    "            if batch_i % display_step == 0 and batch_i > 0:\n",
    "\n",
    "\n",
    "                batch_train_logits = sess.run(\n",
    "                    inference_logits,\n",
    "                    {input_data: source_batch,\n",
    "                     source_sequence_length: sources_lengths,\n",
    "                     target_sequence_length: targets_lengths,\n",
    "                     keep_prob: 1.0})\n",
    "\n",
    "\n",
    "                batch_valid_logits = sess.run(\n",
    "                    inference_logits,\n",
    "                    {input_data: valid_sources_batch,\n",
    "                     source_sequence_length: valid_sources_lengths,\n",
    "                     target_sequence_length: valid_targets_lengths,\n",
    "                     keep_prob: 1.0})\n",
    "\n",
    "                train_acc = get_accuracy(target_batch, batch_train_logits)\n",
    "\n",
    "                valid_acc = get_accuracy(valid_targets_batch, batch_valid_logits)\n",
    "\n",
    "                print('Epoch {:>3} Batch {:>4}/{} - Train Accuracy: {:>6.4f}, Validation Accuracy: {:>6.4f}, Loss: {:>6.4f}'\n",
    "                      .format(epoch_i, batch_i, len(source_int_text) // batch_size, train_acc, valid_acc, loss))\n",
    "\n",
    "    # Save Model\n",
    "    saver = tf.train.Saver()\n",
    "    saver.save(sess, save_path)\n",
    "    print('Model Trained and Saved')"
   ]
  },
  {
   "cell_type": "markdown",
   "metadata": {},
   "source": [
    "### Save Parameters\n",
    "Save the `batch_size` and `save_path` parameters for inference."
   ]
  },
  {
   "cell_type": "code",
   "execution_count": 18,
   "metadata": {
    "collapsed": true
   },
   "outputs": [],
   "source": [
    "\"\"\"\n",
    "DON'T MODIFY ANYTHING IN THIS CELL\n",
    "\"\"\"\n",
    "# Save parameters for checkpoint\n",
    "helper.save_params(save_path)"
   ]
  },
  {
   "cell_type": "markdown",
   "metadata": {},
   "source": [
    "# Checkpoint"
   ]
  },
  {
   "cell_type": "code",
   "execution_count": 19,
   "metadata": {
    "collapsed": true
   },
   "outputs": [],
   "source": [
    "\"\"\"\n",
    "DON'T MODIFY ANYTHING IN THIS CELL\n",
    "\"\"\"\n",
    "import tensorflow as tf\n",
    "import numpy as np\n",
    "import helper\n",
    "import problem_unittests as tests\n",
    "\n",
    "_, (source_vocab_to_int, target_vocab_to_int), (source_int_to_vocab, target_int_to_vocab) = helper.load_preprocess()\n",
    "load_path = helper.load_params()"
   ]
  },
  {
   "cell_type": "markdown",
   "metadata": {},
   "source": [
    "## Sentence to Sequence\n",
    "To feed a sentence into the model for translation, you first need to preprocess it.  Implement the function `sentence_to_seq()` to preprocess new sentences.\n",
    "\n",
    "- Convert the sentence to lowercase\n",
    "- Convert words into ids using `vocab_to_int`\n",
    " - Convert words not in the vocabulary, to the `<UNK>` word id."
   ]
  },
  {
   "cell_type": "code",
   "execution_count": 20,
   "metadata": {},
   "outputs": [
    {
     "name": "stdout",
     "output_type": "stream",
     "text": [
      "Tests Passed\n"
     ]
    }
   ],
   "source": [
    "def sentence_to_seq(sentence, vocab_to_int):\n",
    "    \"\"\"\n",
    "    Convert a sentence to a sequence of ids\n",
    "    :param sentence: String\n",
    "    :param vocab_to_int: Dictionary to go from the words to an id\n",
    "    :return: List of word ids\n",
    "    \"\"\"\n",
    "    # TODO: Implement Function\n",
    "    \n",
    "    word_tokens = sentence.lower().split()\n",
    "    unk_value = vocab_to_int['<UNK>']\n",
    "    word_ids = [vocab_to_int.get(word, unk_value) for word in word_tokens]\n",
    "    return word_ids\n",
    "\n",
    "\n",
    "\"\"\"\n",
    "DON'T MODIFY ANYTHING IN THIS CELL THAT IS BELOW THIS LINE\n",
    "\"\"\"\n",
    "tests.test_sentence_to_seq(sentence_to_seq)"
   ]
  },
  {
   "cell_type": "markdown",
   "metadata": {},
   "source": [
    "## Translate\n",
    "This will translate `translate_sentence` from English to French."
   ]
  },
  {
   "cell_type": "code",
   "execution_count": 21,
   "metadata": {},
   "outputs": [
    {
     "name": "stdout",
     "output_type": "stream",
     "text": [
      "INFO:tensorflow:Restoring parameters from checkpoints/dev\n",
      "Input\n",
      "  Word Ids:      [228, 85, 180, 94, 5, 2]\n",
      "  English Words: ['he', 'saw', 'a', 'old', 'yellow', '<UNK>']\n",
      "\n",
      "Prediction\n",
      "  Word Ids:      [86, 330, 330, 330, 82, 82, 82, 82, 82, 271, 271, 271]\n",
      "  French Words: vous est est est agréable agréable agréable agréable agréable automne automne automne\n"
     ]
    }
   ],
   "source": [
    "translate_sentence = 'he saw a old yellow truck.'\n",
    "\n",
    "\n",
    "\"\"\"\n",
    "DON'T MODIFY ANYTHING IN THIS CELL\n",
    "\"\"\"\n",
    "translate_sentence = sentence_to_seq(translate_sentence, source_vocab_to_int)\n",
    "\n",
    "loaded_graph = tf.Graph()\n",
    "with tf.Session(graph=loaded_graph) as sess:\n",
    "    # Load saved model\n",
    "    loader = tf.train.import_meta_graph(load_path + '.meta')\n",
    "    loader.restore(sess, load_path)\n",
    "\n",
    "    input_data = loaded_graph.get_tensor_by_name('input:0')\n",
    "    logits = loaded_graph.get_tensor_by_name('predictions:0')\n",
    "    target_sequence_length = loaded_graph.get_tensor_by_name('target_sequence_length:0')\n",
    "    source_sequence_length = loaded_graph.get_tensor_by_name('source_sequence_length:0')\n",
    "    keep_prob = loaded_graph.get_tensor_by_name('keep_prob:0')\n",
    "\n",
    "    translate_logits = sess.run(logits, {input_data: [translate_sentence]*batch_size,\n",
    "                                         target_sequence_length: [len(translate_sentence)*2]*batch_size,\n",
    "                                         source_sequence_length: [len(translate_sentence)]*batch_size,\n",
    "                                         keep_prob: 1.0})[0]\n",
    "\n",
    "print('Input')\n",
    "print('  Word Ids:      {}'.format([i for i in translate_sentence]))\n",
    "print('  English Words: {}'.format([source_int_to_vocab[i] for i in translate_sentence]))\n",
    "\n",
    "print('\\nPrediction')\n",
    "print('  Word Ids:      {}'.format([i for i in translate_logits]))\n",
    "print('  French Words: {}'.format(\" \".join([target_int_to_vocab[i] for i in translate_logits])))\n"
   ]
  },
  {
   "cell_type": "markdown",
   "metadata": {},
   "source": [
    "## Imperfect Translation\n",
    "You might notice that some sentences translate better than others.  Since the dataset you're using only has a vocabulary of 227 English words of the thousands that you use, you're only going to see good results using these words.  For this project, you don't need a perfect translation. However, if you want to create a better translation model, you'll need better data.\n",
    "\n",
    "You can train on the [WMT10 French-English corpus](http://www.statmt.org/wmt10/training-giga-fren.tar).  This dataset has more vocabulary and richer in topics discussed.  However, this will take you days to train, so make sure you've a GPU and the neural network is performing well on dataset we provided.  Just make sure you play with the WMT10 corpus after you've submitted this project.\n",
    "## Submitting This Project\n",
    "When submitting this project, make sure to run all the cells before saving the notebook. Save the notebook file as \"dlnd_language_translation.ipynb\" and save it as a HTML file under \"File\" -> \"Download as\". Include the \"helper.py\" and \"problem_unittests.py\" files in your submission."
   ]
  },
  {
   "cell_type": "code",
   "execution_count": null,
   "metadata": {
    "collapsed": true
   },
   "outputs": [],
   "source": []
  }
 ],
 "metadata": {
  "anaconda-cloud": {},
  "kernelspec": {
   "display_name": "Python 3",
   "language": "python",
   "name": "python3"
  },
  "language_info": {
   "codemirror_mode": {
    "name": "ipython",
    "version": 3
   },
   "file_extension": ".py",
   "mimetype": "text/x-python",
   "name": "python",
   "nbconvert_exporter": "python",
   "pygments_lexer": "ipython3",
   "version": "3.5.3"
  }
 },
 "nbformat": 4,
 "nbformat_minor": 1
}
